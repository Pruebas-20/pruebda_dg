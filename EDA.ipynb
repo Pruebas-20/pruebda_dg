{
 "cells": [
  {
   "cell_type": "code",
   "execution_count": 1,
   "id": "damaged-clearance",
   "metadata": {},
   "outputs": [],
   "source": [
    "import pandas as pd\n",
    "import numpy as np\n",
    "import matplotlib.pyplot as plt\n",
    "import matplotlib.patches as mpatches\n",
    "import seaborn\n",
    "seaborn.set(style='ticks')"
   ]
  },
  {
   "cell_type": "code",
   "execution_count": 2,
   "id": "focal-representation",
   "metadata": {},
   "outputs": [],
   "source": [
    "ds_health = pd.read_excel('Healthcare_dataset.xlsx', sheet_name='Dataset',engine='openpyxl')"
   ]
  },
  {
   "cell_type": "code",
   "execution_count": 3,
   "id": "express-plain",
   "metadata": {},
   "outputs": [
    {
     "data": {
      "text/html": [
       "<div>\n",
       "<style scoped>\n",
       "    .dataframe tbody tr th:only-of-type {\n",
       "        vertical-align: middle;\n",
       "    }\n",
       "\n",
       "    .dataframe tbody tr th {\n",
       "        vertical-align: top;\n",
       "    }\n",
       "\n",
       "    .dataframe thead th {\n",
       "        text-align: right;\n",
       "    }\n",
       "</style>\n",
       "<table border=\"1\" class=\"dataframe\">\n",
       "  <thead>\n",
       "    <tr style=\"text-align: right;\">\n",
       "      <th></th>\n",
       "      <th>Ptid</th>\n",
       "      <th>Persistency_Flag</th>\n",
       "      <th>Gender</th>\n",
       "      <th>Race</th>\n",
       "      <th>Ethnicity</th>\n",
       "      <th>Region</th>\n",
       "      <th>Age_Bucket</th>\n",
       "      <th>Ntm_Speciality</th>\n",
       "      <th>Ntm_Specialist_Flag</th>\n",
       "      <th>Ntm_Speciality_Bucket</th>\n",
       "      <th>...</th>\n",
       "      <th>Risk_Family_History_Of_Osteoporosis</th>\n",
       "      <th>Risk_Low_Calcium_Intake</th>\n",
       "      <th>Risk_Vitamin_D_Insufficiency</th>\n",
       "      <th>Risk_Poor_Health_Frailty</th>\n",
       "      <th>Risk_Excessive_Thinness</th>\n",
       "      <th>Risk_Hysterectomy_Oophorectomy</th>\n",
       "      <th>Risk_Estrogen_Deficiency</th>\n",
       "      <th>Risk_Immobilization</th>\n",
       "      <th>Risk_Recurring_Falls</th>\n",
       "      <th>Count_Of_Risks</th>\n",
       "    </tr>\n",
       "  </thead>\n",
       "  <tbody>\n",
       "    <tr>\n",
       "      <th>0</th>\n",
       "      <td>P1</td>\n",
       "      <td>Persistent</td>\n",
       "      <td>Male</td>\n",
       "      <td>Caucasian</td>\n",
       "      <td>Not Hispanic</td>\n",
       "      <td>West</td>\n",
       "      <td>&gt;75</td>\n",
       "      <td>GENERAL PRACTITIONER</td>\n",
       "      <td>Others</td>\n",
       "      <td>OB/GYN/Others/PCP/Unknown</td>\n",
       "      <td>...</td>\n",
       "      <td>N</td>\n",
       "      <td>N</td>\n",
       "      <td>N</td>\n",
       "      <td>N</td>\n",
       "      <td>N</td>\n",
       "      <td>N</td>\n",
       "      <td>N</td>\n",
       "      <td>N</td>\n",
       "      <td>N</td>\n",
       "      <td>0</td>\n",
       "    </tr>\n",
       "    <tr>\n",
       "      <th>1</th>\n",
       "      <td>P2</td>\n",
       "      <td>Non-Persistent</td>\n",
       "      <td>Male</td>\n",
       "      <td>Asian</td>\n",
       "      <td>Not Hispanic</td>\n",
       "      <td>West</td>\n",
       "      <td>55-65</td>\n",
       "      <td>GENERAL PRACTITIONER</td>\n",
       "      <td>Others</td>\n",
       "      <td>OB/GYN/Others/PCP/Unknown</td>\n",
       "      <td>...</td>\n",
       "      <td>N</td>\n",
       "      <td>N</td>\n",
       "      <td>N</td>\n",
       "      <td>N</td>\n",
       "      <td>N</td>\n",
       "      <td>N</td>\n",
       "      <td>N</td>\n",
       "      <td>N</td>\n",
       "      <td>N</td>\n",
       "      <td>0</td>\n",
       "    </tr>\n",
       "    <tr>\n",
       "      <th>2</th>\n",
       "      <td>P3</td>\n",
       "      <td>Non-Persistent</td>\n",
       "      <td>Female</td>\n",
       "      <td>Other/Unknown</td>\n",
       "      <td>Hispanic</td>\n",
       "      <td>Midwest</td>\n",
       "      <td>65-75</td>\n",
       "      <td>GENERAL PRACTITIONER</td>\n",
       "      <td>Others</td>\n",
       "      <td>OB/GYN/Others/PCP/Unknown</td>\n",
       "      <td>...</td>\n",
       "      <td>N</td>\n",
       "      <td>Y</td>\n",
       "      <td>N</td>\n",
       "      <td>N</td>\n",
       "      <td>N</td>\n",
       "      <td>N</td>\n",
       "      <td>N</td>\n",
       "      <td>N</td>\n",
       "      <td>N</td>\n",
       "      <td>2</td>\n",
       "    </tr>\n",
       "    <tr>\n",
       "      <th>3</th>\n",
       "      <td>P4</td>\n",
       "      <td>Non-Persistent</td>\n",
       "      <td>Female</td>\n",
       "      <td>Caucasian</td>\n",
       "      <td>Not Hispanic</td>\n",
       "      <td>Midwest</td>\n",
       "      <td>&gt;75</td>\n",
       "      <td>GENERAL PRACTITIONER</td>\n",
       "      <td>Others</td>\n",
       "      <td>OB/GYN/Others/PCP/Unknown</td>\n",
       "      <td>...</td>\n",
       "      <td>N</td>\n",
       "      <td>N</td>\n",
       "      <td>N</td>\n",
       "      <td>N</td>\n",
       "      <td>N</td>\n",
       "      <td>N</td>\n",
       "      <td>N</td>\n",
       "      <td>N</td>\n",
       "      <td>N</td>\n",
       "      <td>1</td>\n",
       "    </tr>\n",
       "    <tr>\n",
       "      <th>4</th>\n",
       "      <td>P5</td>\n",
       "      <td>Non-Persistent</td>\n",
       "      <td>Female</td>\n",
       "      <td>Caucasian</td>\n",
       "      <td>Not Hispanic</td>\n",
       "      <td>Midwest</td>\n",
       "      <td>&gt;75</td>\n",
       "      <td>GENERAL PRACTITIONER</td>\n",
       "      <td>Others</td>\n",
       "      <td>OB/GYN/Others/PCP/Unknown</td>\n",
       "      <td>...</td>\n",
       "      <td>N</td>\n",
       "      <td>N</td>\n",
       "      <td>N</td>\n",
       "      <td>N</td>\n",
       "      <td>N</td>\n",
       "      <td>N</td>\n",
       "      <td>N</td>\n",
       "      <td>N</td>\n",
       "      <td>N</td>\n",
       "      <td>1</td>\n",
       "    </tr>\n",
       "  </tbody>\n",
       "</table>\n",
       "<p>5 rows × 69 columns</p>\n",
       "</div>"
      ],
      "text/plain": [
       "  Ptid Persistency_Flag  Gender           Race     Ethnicity   Region  \\\n",
       "0   P1       Persistent    Male      Caucasian  Not Hispanic     West   \n",
       "1   P2   Non-Persistent    Male          Asian  Not Hispanic     West   \n",
       "2   P3   Non-Persistent  Female  Other/Unknown      Hispanic  Midwest   \n",
       "3   P4   Non-Persistent  Female      Caucasian  Not Hispanic  Midwest   \n",
       "4   P5   Non-Persistent  Female      Caucasian  Not Hispanic  Midwest   \n",
       "\n",
       "  Age_Bucket        Ntm_Speciality Ntm_Specialist_Flag  \\\n",
       "0        >75  GENERAL PRACTITIONER              Others   \n",
       "1      55-65  GENERAL PRACTITIONER              Others   \n",
       "2      65-75  GENERAL PRACTITIONER              Others   \n",
       "3        >75  GENERAL PRACTITIONER              Others   \n",
       "4        >75  GENERAL PRACTITIONER              Others   \n",
       "\n",
       "       Ntm_Speciality_Bucket  ... Risk_Family_History_Of_Osteoporosis  \\\n",
       "0  OB/GYN/Others/PCP/Unknown  ...                                   N   \n",
       "1  OB/GYN/Others/PCP/Unknown  ...                                   N   \n",
       "2  OB/GYN/Others/PCP/Unknown  ...                                   N   \n",
       "3  OB/GYN/Others/PCP/Unknown  ...                                   N   \n",
       "4  OB/GYN/Others/PCP/Unknown  ...                                   N   \n",
       "\n",
       "  Risk_Low_Calcium_Intake  Risk_Vitamin_D_Insufficiency  \\\n",
       "0                       N                             N   \n",
       "1                       N                             N   \n",
       "2                       Y                             N   \n",
       "3                       N                             N   \n",
       "4                       N                             N   \n",
       "\n",
       "  Risk_Poor_Health_Frailty Risk_Excessive_Thinness  \\\n",
       "0                        N                       N   \n",
       "1                        N                       N   \n",
       "2                        N                       N   \n",
       "3                        N                       N   \n",
       "4                        N                       N   \n",
       "\n",
       "  Risk_Hysterectomy_Oophorectomy Risk_Estrogen_Deficiency Risk_Immobilization  \\\n",
       "0                              N                        N                   N   \n",
       "1                              N                        N                   N   \n",
       "2                              N                        N                   N   \n",
       "3                              N                        N                   N   \n",
       "4                              N                        N                   N   \n",
       "\n",
       "  Risk_Recurring_Falls Count_Of_Risks  \n",
       "0                    N              0  \n",
       "1                    N              0  \n",
       "2                    N              2  \n",
       "3                    N              1  \n",
       "4                    N              1  \n",
       "\n",
       "[5 rows x 69 columns]"
      ]
     },
     "execution_count": 3,
     "metadata": {},
     "output_type": "execute_result"
    }
   ],
   "source": [
    "ds_health.head()"
   ]
  },
  {
   "cell_type": "code",
   "execution_count": 4,
   "id": "guided-ranch",
   "metadata": {},
   "outputs": [
    {
     "data": {
      "text/plain": [
       "['Ptid',\n",
       " 'Persistency_Flag',\n",
       " 'Gender',\n",
       " 'Race',\n",
       " 'Ethnicity',\n",
       " 'Region',\n",
       " 'Age_Bucket',\n",
       " 'Ntm_Speciality',\n",
       " 'Ntm_Specialist_Flag',\n",
       " 'Ntm_Speciality_Bucket',\n",
       " 'Gluco_Record_Prior_Ntm',\n",
       " 'Gluco_Record_During_Rx',\n",
       " 'Dexa_Freq_During_Rx',\n",
       " 'Dexa_During_Rx',\n",
       " 'Frag_Frac_Prior_Ntm',\n",
       " 'Frag_Frac_During_Rx',\n",
       " 'Risk_Segment_Prior_Ntm',\n",
       " 'Tscore_Bucket_Prior_Ntm',\n",
       " 'Risk_Segment_During_Rx',\n",
       " 'Tscore_Bucket_During_Rx',\n",
       " 'Change_T_Score',\n",
       " 'Change_Risk_Segment',\n",
       " 'Adherent_Flag',\n",
       " 'Idn_Indicator',\n",
       " 'Injectable_Experience_During_Rx',\n",
       " 'Comorb_Encounter_For_Screening_For_Malignant_Neoplasms',\n",
       " 'Comorb_Encounter_For_Immunization',\n",
       " 'Comorb_Encntr_For_General_Exam_W_O_Complaint,_Susp_Or_Reprtd_Dx',\n",
       " 'Comorb_Vitamin_D_Deficiency',\n",
       " 'Comorb_Other_Joint_Disorder_Not_Elsewhere_Classified',\n",
       " 'Comorb_Encntr_For_Oth_Sp_Exam_W_O_Complaint_Suspected_Or_Reprtd_Dx',\n",
       " 'Comorb_Long_Term_Current_Drug_Therapy',\n",
       " 'Comorb_Dorsalgia',\n",
       " 'Comorb_Personal_History_Of_Other_Diseases_And_Conditions',\n",
       " 'Comorb_Other_Disorders_Of_Bone_Density_And_Structure',\n",
       " 'Comorb_Disorders_of_lipoprotein_metabolism_and_other_lipidemias',\n",
       " 'Comorb_Osteoporosis_without_current_pathological_fracture',\n",
       " 'Comorb_Personal_history_of_malignant_neoplasm',\n",
       " 'Comorb_Gastro_esophageal_reflux_disease',\n",
       " 'Concom_Cholesterol_And_Triglyceride_Regulating_Preparations',\n",
       " 'Concom_Narcotics',\n",
       " 'Concom_Systemic_Corticosteroids_Plain',\n",
       " 'Concom_Anti_Depressants_And_Mood_Stabilisers',\n",
       " 'Concom_Fluoroquinolones',\n",
       " 'Concom_Cephalosporins',\n",
       " 'Concom_Macrolides_And_Similar_Types',\n",
       " 'Concom_Broad_Spectrum_Penicillins',\n",
       " 'Concom_Anaesthetics_General',\n",
       " 'Concom_Viral_Vaccines',\n",
       " 'Risk_Type_1_Insulin_Dependent_Diabetes',\n",
       " 'Risk_Osteogenesis_Imperfecta',\n",
       " 'Risk_Rheumatoid_Arthritis',\n",
       " 'Risk_Untreated_Chronic_Hyperthyroidism',\n",
       " 'Risk_Untreated_Chronic_Hypogonadism',\n",
       " 'Risk_Untreated_Early_Menopause',\n",
       " 'Risk_Patient_Parent_Fractured_Their_Hip',\n",
       " 'Risk_Smoking_Tobacco',\n",
       " 'Risk_Chronic_Malnutrition_Or_Malabsorption',\n",
       " 'Risk_Chronic_Liver_Disease',\n",
       " 'Risk_Family_History_Of_Osteoporosis',\n",
       " 'Risk_Low_Calcium_Intake',\n",
       " 'Risk_Vitamin_D_Insufficiency',\n",
       " 'Risk_Poor_Health_Frailty',\n",
       " 'Risk_Excessive_Thinness',\n",
       " 'Risk_Hysterectomy_Oophorectomy',\n",
       " 'Risk_Estrogen_Deficiency',\n",
       " 'Risk_Immobilization',\n",
       " 'Risk_Recurring_Falls',\n",
       " 'Count_Of_Risks']"
      ]
     },
     "execution_count": 4,
     "metadata": {},
     "output_type": "execute_result"
    }
   ],
   "source": [
    "ds_health.columns.values.tolist()"
   ]
  },
  {
   "cell_type": "code",
   "execution_count": 5,
   "id": "super-discount",
   "metadata": {},
   "outputs": [],
   "source": [
    "ds_health.to_csv('Healthcare_dataset.csv',index=False)"
   ]
  },
  {
   "cell_type": "code",
   "execution_count": 6,
   "id": "forbidden-montgomery",
   "metadata": {},
   "outputs": [],
   "source": [
    "columns = ['Frag_Frac_During_Rx',\n",
    " 'Risk_Segment_Prior_Ntm',\n",
    " 'Tscore_Bucket_Prior_Ntm',\n",
    " 'Risk_Segment_During_Rx',\n",
    " 'Tscore_Bucket_During_Rx',\n",
    " 'Change_T_Score',\n",
    " 'Change_Risk_Segment','Persistency_Flag']\n",
    "df = ds_health[columns]"
   ]
  },
  {
   "cell_type": "code",
   "execution_count": 7,
   "id": "hazardous-vintage",
   "metadata": {},
   "outputs": [
    {
     "data": {
      "text/html": [
       "<div>\n",
       "<style scoped>\n",
       "    .dataframe tbody tr th:only-of-type {\n",
       "        vertical-align: middle;\n",
       "    }\n",
       "\n",
       "    .dataframe tbody tr th {\n",
       "        vertical-align: top;\n",
       "    }\n",
       "\n",
       "    .dataframe thead th {\n",
       "        text-align: right;\n",
       "    }\n",
       "</style>\n",
       "<table border=\"1\" class=\"dataframe\">\n",
       "  <thead>\n",
       "    <tr style=\"text-align: right;\">\n",
       "      <th></th>\n",
       "      <th>Frag_Frac_During_Rx</th>\n",
       "      <th>Risk_Segment_Prior_Ntm</th>\n",
       "      <th>Tscore_Bucket_Prior_Ntm</th>\n",
       "      <th>Risk_Segment_During_Rx</th>\n",
       "      <th>Tscore_Bucket_During_Rx</th>\n",
       "      <th>Change_T_Score</th>\n",
       "      <th>Change_Risk_Segment</th>\n",
       "      <th>Persistency_Flag</th>\n",
       "    </tr>\n",
       "  </thead>\n",
       "  <tbody>\n",
       "    <tr>\n",
       "      <th>0</th>\n",
       "      <td>N</td>\n",
       "      <td>VLR_LR</td>\n",
       "      <td>&gt;-2.5</td>\n",
       "      <td>VLR_LR</td>\n",
       "      <td>&lt;=-2.5</td>\n",
       "      <td>No change</td>\n",
       "      <td>Unknown</td>\n",
       "      <td>Persistent</td>\n",
       "    </tr>\n",
       "    <tr>\n",
       "      <th>1</th>\n",
       "      <td>N</td>\n",
       "      <td>VLR_LR</td>\n",
       "      <td>&gt;-2.5</td>\n",
       "      <td>Unknown</td>\n",
       "      <td>Unknown</td>\n",
       "      <td>Unknown</td>\n",
       "      <td>Unknown</td>\n",
       "      <td>Non-Persistent</td>\n",
       "    </tr>\n",
       "    <tr>\n",
       "      <th>2</th>\n",
       "      <td>N</td>\n",
       "      <td>HR_VHR</td>\n",
       "      <td>&lt;=-2.5</td>\n",
       "      <td>HR_VHR</td>\n",
       "      <td>&lt;=-2.5</td>\n",
       "      <td>No change</td>\n",
       "      <td>No change</td>\n",
       "      <td>Non-Persistent</td>\n",
       "    </tr>\n",
       "    <tr>\n",
       "      <th>3</th>\n",
       "      <td>N</td>\n",
       "      <td>HR_VHR</td>\n",
       "      <td>&gt;-2.5</td>\n",
       "      <td>HR_VHR</td>\n",
       "      <td>&lt;=-2.5</td>\n",
       "      <td>No change</td>\n",
       "      <td>No change</td>\n",
       "      <td>Non-Persistent</td>\n",
       "    </tr>\n",
       "    <tr>\n",
       "      <th>4</th>\n",
       "      <td>N</td>\n",
       "      <td>HR_VHR</td>\n",
       "      <td>&lt;=-2.5</td>\n",
       "      <td>Unknown</td>\n",
       "      <td>Unknown</td>\n",
       "      <td>Unknown</td>\n",
       "      <td>Unknown</td>\n",
       "      <td>Non-Persistent</td>\n",
       "    </tr>\n",
       "  </tbody>\n",
       "</table>\n",
       "</div>"
      ],
      "text/plain": [
       "  Frag_Frac_During_Rx Risk_Segment_Prior_Ntm Tscore_Bucket_Prior_Ntm  \\\n",
       "0                   N                 VLR_LR                   >-2.5   \n",
       "1                   N                 VLR_LR                   >-2.5   \n",
       "2                   N                 HR_VHR                  <=-2.5   \n",
       "3                   N                 HR_VHR                   >-2.5   \n",
       "4                   N                 HR_VHR                  <=-2.5   \n",
       "\n",
       "  Risk_Segment_During_Rx Tscore_Bucket_During_Rx Change_T_Score  \\\n",
       "0                 VLR_LR                  <=-2.5      No change   \n",
       "1                Unknown                 Unknown        Unknown   \n",
       "2                 HR_VHR                  <=-2.5      No change   \n",
       "3                 HR_VHR                  <=-2.5      No change   \n",
       "4                Unknown                 Unknown        Unknown   \n",
       "\n",
       "  Change_Risk_Segment Persistency_Flag  \n",
       "0             Unknown       Persistent  \n",
       "1             Unknown   Non-Persistent  \n",
       "2           No change   Non-Persistent  \n",
       "3           No change   Non-Persistent  \n",
       "4             Unknown   Non-Persistent  "
      ]
     },
     "execution_count": 7,
     "metadata": {},
     "output_type": "execute_result"
    }
   ],
   "source": [
    "df.head()"
   ]
  },
  {
   "cell_type": "code",
   "execution_count": 8,
   "id": "eastern-scratch",
   "metadata": {},
   "outputs": [
    {
     "data": {
      "text/plain": [
       "Frag_Frac_During_Rx        object\n",
       "Risk_Segment_Prior_Ntm     object\n",
       "Tscore_Bucket_Prior_Ntm    object\n",
       "Risk_Segment_During_Rx     object\n",
       "Tscore_Bucket_During_Rx    object\n",
       "Change_T_Score             object\n",
       "Change_Risk_Segment        object\n",
       "Persistency_Flag           object\n",
       "dtype: object"
      ]
     },
     "execution_count": 8,
     "metadata": {},
     "output_type": "execute_result"
    }
   ],
   "source": [
    "df.dtypes"
   ]
  },
  {
   "cell_type": "code",
   "execution_count": 37,
   "id": "small-advice",
   "metadata": {},
   "outputs": [
    {
     "data": {
      "text/plain": [
       "array(['Unknown', 'No change', 'Worsened', 'Improved'], dtype=object)"
      ]
     },
     "execution_count": 37,
     "metadata": {},
     "output_type": "execute_result"
    }
   ],
   "source": [
    "df['Change_Risk_Segment'].unique()"
   ]
  },
  {
   "cell_type": "code",
   "execution_count": 26,
   "id": "returning-speed",
   "metadata": {},
   "outputs": [
    {
     "data": {
      "text/plain": [
       "(3424, 8)"
      ]
     },
     "execution_count": 26,
     "metadata": {},
     "output_type": "execute_result"
    }
   ],
   "source": [
    "df.shape"
   ]
  },
  {
   "cell_type": "code",
   "execution_count": 27,
   "id": "completed-equality",
   "metadata": {},
   "outputs": [
    {
     "data": {
      "text/html": [
       "<div>\n",
       "<style scoped>\n",
       "    .dataframe tbody tr th:only-of-type {\n",
       "        vertical-align: middle;\n",
       "    }\n",
       "\n",
       "    .dataframe tbody tr th {\n",
       "        vertical-align: top;\n",
       "    }\n",
       "\n",
       "    .dataframe thead th {\n",
       "        text-align: right;\n",
       "    }\n",
       "</style>\n",
       "<table border=\"1\" class=\"dataframe\">\n",
       "  <thead>\n",
       "    <tr style=\"text-align: right;\">\n",
       "      <th></th>\n",
       "      <th>Frag_Frac_During_Rx</th>\n",
       "      <th>Risk_Segment_Prior_Ntm</th>\n",
       "      <th>Tscore_Bucket_Prior_Ntm</th>\n",
       "      <th>Risk_Segment_During_Rx</th>\n",
       "      <th>Tscore_Bucket_During_Rx</th>\n",
       "      <th>Change_T_Score</th>\n",
       "      <th>Persistency_Flag</th>\n",
       "    </tr>\n",
       "    <tr>\n",
       "      <th>Change_Risk_Segment</th>\n",
       "      <th></th>\n",
       "      <th></th>\n",
       "      <th></th>\n",
       "      <th></th>\n",
       "      <th></th>\n",
       "      <th></th>\n",
       "      <th></th>\n",
       "    </tr>\n",
       "  </thead>\n",
       "  <tbody>\n",
       "    <tr>\n",
       "      <th>Improved</th>\n",
       "      <td>22</td>\n",
       "      <td>22</td>\n",
       "      <td>22</td>\n",
       "      <td>22</td>\n",
       "      <td>22</td>\n",
       "      <td>22</td>\n",
       "      <td>22</td>\n",
       "    </tr>\n",
       "    <tr>\n",
       "      <th>No change</th>\n",
       "      <td>1052</td>\n",
       "      <td>1052</td>\n",
       "      <td>1052</td>\n",
       "      <td>1052</td>\n",
       "      <td>1052</td>\n",
       "      <td>1052</td>\n",
       "      <td>1052</td>\n",
       "    </tr>\n",
       "    <tr>\n",
       "      <th>Unknown</th>\n",
       "      <td>2229</td>\n",
       "      <td>2229</td>\n",
       "      <td>2229</td>\n",
       "      <td>2229</td>\n",
       "      <td>2229</td>\n",
       "      <td>2229</td>\n",
       "      <td>2229</td>\n",
       "    </tr>\n",
       "    <tr>\n",
       "      <th>Worsened</th>\n",
       "      <td>121</td>\n",
       "      <td>121</td>\n",
       "      <td>121</td>\n",
       "      <td>121</td>\n",
       "      <td>121</td>\n",
       "      <td>121</td>\n",
       "      <td>121</td>\n",
       "    </tr>\n",
       "  </tbody>\n",
       "</table>\n",
       "</div>"
      ],
      "text/plain": [
       "                     Frag_Frac_During_Rx  Risk_Segment_Prior_Ntm  \\\n",
       "Change_Risk_Segment                                                \n",
       "Improved                              22                      22   \n",
       "No change                           1052                    1052   \n",
       "Unknown                             2229                    2229   \n",
       "Worsened                             121                     121   \n",
       "\n",
       "                     Tscore_Bucket_Prior_Ntm  Risk_Segment_During_Rx  \\\n",
       "Change_Risk_Segment                                                    \n",
       "Improved                                  22                      22   \n",
       "No change                               1052                    1052   \n",
       "Unknown                                 2229                    2229   \n",
       "Worsened                                 121                     121   \n",
       "\n",
       "                     Tscore_Bucket_During_Rx  Change_T_Score  Persistency_Flag  \n",
       "Change_Risk_Segment                                                             \n",
       "Improved                                  22              22                22  \n",
       "No change                               1052            1052              1052  \n",
       "Unknown                                 2229            2229              2229  \n",
       "Worsened                                 121             121               121  "
      ]
     },
     "execution_count": 27,
     "metadata": {},
     "output_type": "execute_result"
    }
   ],
   "source": [
    "freq = df.groupby(['Change_Risk_Segment']).count() \n",
    "freq"
   ]
  },
  {
   "cell_type": "code",
   "execution_count": 28,
   "id": "celtic-industry",
   "metadata": {},
   "outputs": [
    {
     "data": {
      "text/plain": [
       "65.09929906542057"
      ]
     },
     "execution_count": 28,
     "metadata": {},
     "output_type": "execute_result"
    }
   ],
   "source": [
    "2229 * 100 / 3424"
   ]
  },
  {
   "cell_type": "code",
   "execution_count": 29,
   "id": "understood-moral",
   "metadata": {},
   "outputs": [
    {
     "data": {
      "image/png": "[encoded data removed]",
      "text/plain": [
       "<Figure size 1207.05x360 with 1 Axes>"
      ]
     },
     "metadata": {},
     "output_type": "display_data"
    }
   ],
   "source": [
    "data_g = df.groupby(['Persistency_Flag','Frag_Frac_During_Rx'], as_index = False).count()\n",
    "\n",
    "fg = seaborn.catplot(x='Persistency_Flag', y='Change_T_Score', hue='Frag_Frac_During_Rx', data=data_g, kind='bar',aspect=3)\n",
    "fg.set_ylabels('Number of trips')\n",
    "fg.set_xticklabels(rotation=90)\n",
    "for ax in fg.axes.ravel():\n",
    "    for p in ax.patches:\n",
    "        ax.annotate(format(p.get_height(), '.0f'), (p.get_x() + p.get_width() / 2., p.get_height()), ha = 'center', va = 'center', xytext = (0, 10), textcoords = 'offset points')"
   ]
  },
  {
   "cell_type": "code",
   "execution_count": 30,
   "id": "piano-marks",
   "metadata": {},
   "outputs": [
    {
     "data": {
      "image/png": "[encoded data removed]",
      "text/plain": [
       "<Figure size 1227.3x360 with 1 Axes>"
      ]
     },
     "metadata": {},
     "output_type": "display_data"
    }
   ],
   "source": [
    "data_g = ds_health.groupby(['Persistency_Flag','Risk_Segment_Prior_Ntm'], as_index = False).count()\n",
    "\n",
    "fg = seaborn.catplot(x='Persistency_Flag', y='Change_T_Score', hue='Risk_Segment_Prior_Ntm', data=data_g, kind='bar',aspect=3)\n",
    "fg.set_ylabels('Number of trips')\n",
    "fg.set_xticklabels(rotation=90)\n",
    "for ax in fg.axes.ravel():\n",
    "    for p in ax.patches:\n",
    "        ax.annotate(format(p.get_height(), '.0f'), (p.get_x() + p.get_width() / 2., p.get_height()), ha = 'center', va = 'center', xytext = (0, 10), textcoords = 'offset points')"
   ]
  },
  {
   "cell_type": "code",
   "execution_count": 31,
   "id": "senior-apparatus",
   "metadata": {},
   "outputs": [
    {
     "data": {
      "image/png": "[encoded data removed]",
      "text/plain": [
       "<Figure size 1227.92x360 with 1 Axes>"
      ]
     },
     "metadata": {},
     "output_type": "display_data"
    }
   ],
   "source": [
    "data_g = ds_health.groupby(['Persistency_Flag','Tscore_Bucket_Prior_Ntm'], as_index = False).count()\n",
    "\n",
    "fg = seaborn.catplot(x='Persistency_Flag', y='Change_T_Score', hue='Tscore_Bucket_Prior_Ntm', data=data_g, kind='bar',aspect=3)\n",
    "fg.set_ylabels('Number of trips')\n",
    "fg.set_xticklabels(rotation=90)\n",
    "for ax in fg.axes.ravel():\n",
    "    for p in ax.patches:\n",
    "        ax.annotate(format(p.get_height(), '.0f'), (p.get_x() + p.get_width() / 2., p.get_height()), ha = 'center', va = 'center', xytext = (0, 10), textcoords = 'offset points')"
   ]
  },
  {
   "cell_type": "code",
   "execution_count": 17,
   "id": "generic-confirmation",
   "metadata": {},
   "outputs": [],
   "source": [
    "def chi_square(df,var1,var2):\n",
    "    df_ct = pd.crosstab(df[var1],df[var2])\n",
    "    df_ct['Total']=df_ct.sum(axis=1)\n",
    "    df_ct.loc['Total1'] = df_ct.sum(axis = 0, skipna = True)\n",
    "    df_cq = pd.DataFrame()\n",
    "    df_cq['Observed'] = np.array([df_ct.iloc[0][0],df_ct.iloc[0][1],df_ct.iloc[1][0],df_ct.iloc[1][1]])\n",
    "    df_cq['Expected'] = np.array([(df_ct.iloc[0][2] * df_ct.iloc[2][0] / df_ct.iloc[2][2]),\n",
    "                                  (df_ct.iloc[0][2] * df_ct.iloc[2][1] / df_ct.iloc[2][2]),\n",
    "                                  (df_ct.iloc[1][2] * df_ct.iloc[2][0] / df_ct.iloc[2][2]),\n",
    "                                  (df_ct.iloc[1][2] * df_ct.iloc[2][1] / df_ct.iloc[2][2]),\n",
    "                                 ])\n",
    "    df_cq['Chi-Square'] = ((df_cq['Observed'] - df_cq['Expected']) ** 2) / df_cq['Expected']\n",
    "    chi_square =  df_cq['Chi-Square'].sum()\n",
    "    return df_cq,chi_square"
   ]
  },
  {
   "cell_type": "code",
   "execution_count": 31,
   "id": "tracked-blade",
   "metadata": {},
   "outputs": [],
   "source": [
    "def chi_square_3(df,var1,var2):\n",
    "    df_ct = pd.crosstab(df[var1],df[var2])\n",
    "    df_ct['Total']=df_ct.sum(axis=1)\n",
    "    df_ct.loc['Total1'] = df_ct.sum(axis = 0, skipna = True)\n",
    "    df_cq = pd.DataFrame()\n",
    "    df_cq['Observed'] = np.array([df_ct.iloc[0][0],df_ct.iloc[0][1],df_ct.iloc[1][0],df_ct.iloc[1][1],df_ct.iloc[2][0],df_ct.iloc[2][1]])\n",
    "    df_cq['Expected'] = np.array([(df_ct.iloc[0][2] * df_ct.iloc[3][0] / df_ct.iloc[3][2]),\n",
    "                                  (df_ct.iloc[0][2] * df_ct.iloc[3][1] / df_ct.iloc[3][2]),\n",
    "                                  (df_ct.iloc[1][2] * df_ct.iloc[3][0] / df_ct.iloc[3][2]),\n",
    "                                  (df_ct.iloc[1][2] * df_ct.iloc[3][1] / df_ct.iloc[3][2]),\n",
    "                                  (df_ct.iloc[2][2] * df_ct.iloc[3][0] / df_ct.iloc[3][2]),\n",
    "                                  (df_ct.iloc[2][2] * df_ct.iloc[3][1] / df_ct.iloc[3][2]),\n",
    "                                 ])\n",
    "    df_cq['Chi-Square'] = ((df_cq['Observed'] - df_cq['Expected']) ** 2) / df_cq['Expected']\n",
    "    chi_square =  df_cq['Chi-Square'].sum()\n",
    "    return df_cq,chi_square"
   ]
  },
  {
   "cell_type": "code",
   "execution_count": 41,
   "id": "powerful-berlin",
   "metadata": {},
   "outputs": [],
   "source": [
    "def chi_square_4(df,var1,var2):\n",
    "    df_ct = pd.crosstab(df[var1],df[var2])\n",
    "    df_ct['Total']=df_ct.sum(axis=1)\n",
    "    df_ct.loc['Total1'] = df_ct.sum(axis = 0, skipna = True)\n",
    "    df_cq = pd.DataFrame()\n",
    "    df_cq['Observed'] = np.array([df_ct.iloc[0][0],df_ct.iloc[0][1],df_ct.iloc[1][0],df_ct.iloc[1][1],df_ct.iloc[2][0],df_ct.iloc[2][1],df_ct.iloc[3][0],df_ct.iloc[3][1]])\n",
    "    df_cq['Expected'] = np.array([(df_ct.iloc[0][2] * df_ct.iloc[4][0] / df_ct.iloc[4][2]),\n",
    "                                  (df_ct.iloc[0][2] * df_ct.iloc[4][1] / df_ct.iloc[4][2]),\n",
    "                                  (df_ct.iloc[1][2] * df_ct.iloc[4][0] / df_ct.iloc[4][2]),\n",
    "                                  (df_ct.iloc[1][2] * df_ct.iloc[4][1] / df_ct.iloc[4][2]),\n",
    "                                  (df_ct.iloc[2][2] * df_ct.iloc[4][0] / df_ct.iloc[4][2]),\n",
    "                                  (df_ct.iloc[2][2] * df_ct.iloc[4][1] / df_ct.iloc[4][2]),\n",
    "                                  (df_ct.iloc[3][2] * df_ct.iloc[4][0] / df_ct.iloc[4][2]),\n",
    "                                  (df_ct.iloc[3][2] * df_ct.iloc[4][1] / df_ct.iloc[4][2]),\n",
    "                                 ])\n",
    "    df_cq['Chi-Square'] = ((df_cq['Observed'] - df_cq['Expected']) ** 2) / df_cq['Expected']\n",
    "    chi_square =  df_cq['Chi-Square'].sum()\n",
    "    return df_ct,df_cq,chi_square"
   ]
  },
  {
   "cell_type": "code",
   "execution_count": 33,
   "id": "otherwise-division",
   "metadata": {},
   "outputs": [
    {
     "data": {
      "text/plain": [
       "(   Observed     Expected  Chi-Square\n",
       " 0      1933  1874.983937    1.795143\n",
       " 1      1074  1132.016063    2.973336\n",
       " 2       202   260.016063   12.944829\n",
       " 3       215   156.983937   21.440815,\n",
       " 39.154122704885225)"
      ]
     },
     "execution_count": 33,
     "metadata": {},
     "output_type": "execute_result"
    }
   ],
   "source": [
    "chi_square(df,'Frag_Frac_During_Rx','Persistency_Flag')"
   ]
  },
  {
   "cell_type": "code",
   "execution_count": 34,
   "id": "unlike-benjamin",
   "metadata": {},
   "outputs": [
    {
     "data": {
      "text/plain": [
       "(   Observed     Expected  Chi-Square\n",
       " 0       941   930.944801    0.108607\n",
       " 1       552   562.055199    0.179888\n",
       " 2      1194  1204.055199    0.083972\n",
       " 3       737   726.944801    0.139085,\n",
       " 0.5115518918661821)"
      ]
     },
     "execution_count": 34,
     "metadata": {},
     "output_type": "execute_result"
    }
   ],
   "source": [
    "chi_square(df,'Risk_Segment_Prior_Ntm','Persistency_Flag')"
   ]
  },
  {
   "cell_type": "code",
   "execution_count": 35,
   "id": "respiratory-television",
   "metadata": {},
   "outputs": [
    {
     "data": {
      "text/plain": [
       "(   Observed     Expected  Chi-Square\n",
       " 0       934   918.474007    0.262453\n",
       " 1       539   554.525993    0.434707\n",
       " 2      1201  1216.525993    0.198152\n",
       " 3       750   734.474007    0.328203,\n",
       " 1.2235147986233286)"
      ]
     },
     "execution_count": 35,
     "metadata": {},
     "output_type": "execute_result"
    }
   ],
   "source": [
    "chi_square(df,'Tscore_Bucket_Prior_Ntm','Persistency_Flag')"
   ]
  },
  {
   "cell_type": "code",
   "execution_count": 32,
   "id": "precious-sender",
   "metadata": {},
   "outputs": [
    {
     "data": {
      "text/plain": [
       "(   Observed    Expected  Chi-Square\n",
       " 0       527  601.715829    9.277561\n",
       " 1       438  363.284171   15.366635\n",
       " 2      1082  933.438960   23.644163\n",
       " 3       415  563.561040   39.162364\n",
       " 4       526  599.845210    9.090870\n",
       " 5       436  362.154790   15.057415,\n",
       " 111.59900776382307)"
      ]
     },
     "execution_count": 32,
     "metadata": {},
     "output_type": "execute_result"
    }
   ],
   "source": [
    "chi_square_3(df,'Risk_Segment_During_Rx','Persistency_Flag')"
   ]
  },
  {
   "cell_type": "code",
   "execution_count": 36,
   "id": "supported-ridge",
   "metadata": {},
   "outputs": [
    {
     "data": {
      "text/plain": [
       "(   Observed    Expected  Chi-Square\n",
       " 0       570  634.139895    6.487411\n",
       " 1       447  382.860105   10.745246\n",
       " 2       483  567.421145   12.560212\n",
       " 3       427  342.578855   20.803764\n",
       " 4      1082  933.438960   23.644163\n",
       " 5       415  563.561040   39.162364,\n",
       " 113.40315953646167)"
      ]
     },
     "execution_count": 36,
     "metadata": {},
     "output_type": "execute_result"
    }
   ],
   "source": [
    "chi_square_3(df,'Tscore_Bucket_During_Rx','Persistency_Flag')"
   ]
  },
  {
   "cell_type": "code",
   "execution_count": 42,
   "id": "representative-format",
   "metadata": {},
   "outputs": [
    {
     "data": {
      "text/plain": [
       "(Persistency_Flag  Non-Persistent  Persistent  Total\n",
       " Change_T_Score                                     \n",
       " Improved                      28          66     94\n",
       " No change                    959         701   1660\n",
       " Unknown                     1082         415   1497\n",
       " Worsened                      66         107    173\n",
       " Total1                      2135        1289   3424,\n",
       "    Observed     Expected  Chi-Square\n",
       " 0        28    58.612734   15.988667\n",
       " 1        66    35.387266   26.482392\n",
       " 2       959  1035.075935    5.591423\n",
       " 3       701   624.924065    9.261202\n",
       " 4      1082   933.438960   23.644163\n",
       " 5       415   563.561040   39.162364\n",
       " 6        66   107.872371   16.253425\n",
       " 7       107    65.127629   26.920917,\n",
       " 163.3045524871112)"
      ]
     },
     "execution_count": 42,
     "metadata": {},
     "output_type": "execute_result"
    }
   ],
   "source": [
    "chi_square_4(df,'Change_T_Score','Persistency_Flag')"
   ]
  },
  {
   "cell_type": "code",
   "execution_count": 43,
   "id": "wooden-romania",
   "metadata": {},
   "outputs": [
    {
     "data": {
      "text/plain": [
       "(Persistency_Flag     Non-Persistent  Persistent  Total\n",
       " Change_Risk_Segment                                   \n",
       " Improved                          9          13     22\n",
       " No change                       621         431   1052\n",
       " Unknown                        1457         772   2229\n",
       " Worsened                         48          73    121\n",
       " Total1                         2135        1289   3424,\n",
       "    Observed     Expected  Chi-Square\n",
       " 0         9    13.717874    1.622579\n",
       " 1        13     8.282126    2.687514\n",
       " 2       621   655.963785    1.863619\n",
       " 3       431   396.036215    3.086754\n",
       " 4      1457  1389.870035    3.242341\n",
       " 5       772   839.129965    5.370363\n",
       " 6        48    75.448306    9.985771\n",
       " 7        73    45.551694   16.539659,\n",
       " 44.398599446550534)"
      ]
     },
     "execution_count": 43,
     "metadata": {},
     "output_type": "execute_result"
    }
   ],
   "source": [
    "chi_square_4(df,'Change_Risk_Segment','Persistency_Flag')"
   ]
  },
  {
   "cell_type": "code",
   "execution_count": null,
   "id": "simplified-circuit",
   "metadata": {},
   "outputs": [],
   "source": []
  }
 ],
 "metadata": {
  "kernelspec": {
   "display_name": "Python 3",
   "language": "python",
   "name": "python3"
  },
  "language_info": {
   "codemirror_mode": {
    "name": "ipython",
    "version": 3
   },
   "file_extension": ".py",
   "mimetype": "text/x-python",
   "name": "python",
   "nbconvert_exporter": "python",
   "pygments_lexer": "ipython3",
   "version": "3.6.10"
  }
 },
 "nbformat": 4,
 "nbformat_minor": 5
}
